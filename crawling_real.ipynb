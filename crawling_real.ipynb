{
 "cells": [
  {
   "cell_type": "code",
   "execution_count": 2,
   "id": "453f03da-6a7e-4a57-b119-fd4c7ee7a5d5",
   "metadata": {},
   "outputs": [],
   "source": [
    "from selenium import webdriver\n",
    "from selenium.webdriver.common.keys import Keys\n",
    "from bs4 import BeautifulSoup\n",
    "import time"
   ]
  },
  {
   "cell_type": "code",
   "execution_count": 87,
   "id": "014d9860-e46e-4ab5-a084-bfaf31a7cc58",
   "metadata": {},
   "outputs": [],
   "source": [
    "driver = webdriver.Chrome(\"./chromedriver.exe\")\n",
    "driver.maximize_window()\n",
    "url = \"https://kream.co.kr/search?category_id=50&sort=popular&per_page=40\"\n",
    "driver.get(url)"
   ]
  },
  {
   "cell_type": "code",
   "execution_count": 88,
   "id": "a118cc27-80eb-45a8-92cd-e9776cc3805a",
   "metadata": {},
   "outputs": [],
   "source": [
    "driver.execute_script(\"window.scrollTo(0, document.body.scrollHeight)\")"
   ]
  },
  {
   "cell_type": "code",
   "execution_count": 89,
   "id": "bffcd157-5d94-4738-8684-9960ae505978",
   "metadata": {},
   "outputs": [],
   "source": [
    "prev_height = driver.execute_script(\"return document.body.scrollHeight\")"
   ]
  },
  {
   "cell_type": "code",
   "execution_count": 90,
   "id": "3b712202-617f-4a3c-8f47-c4021273f0f8",
   "metadata": {},
   "outputs": [],
   "source": [
    "interval = 2\n",
    "\n",
    "prev_height = driver.execute_script(\"return document.body.scrollHeight\")\n",
    "\n",
    "# 웹페이지 맨 아래까지 무한 스크롤\n",
    "while True:\n",
    "    # 스크롤을 화면 가장 아래로 내린다\n",
    "    driver.execute_script(\"window.scrollTo(0,document.body.scrollHeight)\")\n",
    "    \n",
    "    # 페이지 로딩 대기\n",
    "    time.sleep(2)\n",
    "\n",
    "    # 현재 문서 높이를 가져와서 저장\n",
    "    curr_height = driver.execute_script(\"return document.body.scrollHeight\")\n",
    "    \n",
    "    if(curr_height == prev_height):\n",
    "        break\n",
    "    else:\n",
    "        prev_height = driver.execute_script(\"return document.body.scrollHeight\")\n"
   ]
  },
  {
   "cell_type": "code",
   "execution_count": 91,
   "id": "77dbcd32-f835-4276-b82f-1aad7589d5da",
   "metadata": {},
   "outputs": [
    {
     "data": {
      "text/plain": [
       "[<img alt=\"(W) 나이키 x 자크뮈스 NRG 플리티드 미니 스커트 화이트 - 아시아\" class=\"image\" data-v-6c8b3524=\"\" src=\"https://kream-phinf.pstatic.net/MjAyMjA3MDRfMjA1/MDAxNjU2OTE0NDgyMjg1.7uxTKY-An4DvBaBiyi7ViOtV_ZW9gDD1caVR2oTOC60g.jNFmuvdXcxKT2vAMtYMuVSX3Kk9qmCw5wnliUmR3i88g.JPEG/a_7b6cfc22512d4bf08873a30633fa51a4.jpg?type=m\"/>,\n",
       " <img alt=\"(W) 나이키 x 자크뮈스 NRG 플리티드 미니 스커트 다크 옵시디언 - 아시아\" class=\"image\" data-v-6c8b3524=\"\" src=\"https://kream-phinf.pstatic.net/MjAyMjA3MDRfMTEw/MDAxNjU2OTE0NTUyMDAz.6kjMJuaAK_aeUr-_VRRe1j6ZyjsnM1Ddu_Glz-tJNewg.GEe8GnrI_t4LLwJk8k2PNOehbEtnL0urh0v6j64WcNcg.JPEG/a_ca6f01dac43d46d78775d769f4788966.jpg?type=m\"/>,\n",
       " <img alt=\"(W) 톰브라운 더블 페이스 파인 메리노 울 사선 에이라인 니 랭스 스커트 네이비\" class=\"image\" data-v-6c8b3524=\"\" src=\"https://kream-phinf.pstatic.net/MjAyMjA2MDdfMTUz/MDAxNjU0NTg0MzY4NzEx.2KGBWeLvFdKkIdZc9Kz1AdXZgUsUBKBG4LjseBGTui4g.GrV1cLHnRhGWE4ZL_4TyOzlknNsUJMDhaVmo_3Zxax8g.JPEG/a_7f0b30ece3d44cb2ae9644d6cd5ecd35.jpg?type=m\"/>,\n",
       " <img alt=\"(W) 나이키 x 자크뮈스 NRG 플리티드 미니 스커트 다크 옵시디언 - US/EU\" class=\"image\" data-v-6c8b3524=\"\" src=\"https://kream-phinf.pstatic.net/MjAyMjA3MDdfMjk1/MDAxNjU3MTg5NDEzMjAw.vwOaUofVcwUjDeYQwb6Ju9X1mf0ycJHYsjOLaiygn20g.MF6ZlaVOgi5tNw2uV1DdjHbuOUmKr_LD0SzFK53Vl9Ig.JPEG/a_d24e97f108164d83a6415b94c2f499a5.jpg?type=m\"/>,\n",
       " <img alt=\"(W) 나이키 x 자크뮈스 NRG 플리티드 미니 스커트 화이트 - US/EU\" class=\"image\" data-v-6c8b3524=\"\" src=\"https://kream-phinf.pstatic.net/MjAyMjA3MDdfMjA2/MDAxNjU3MTg5MzM2NjQ0.058-gvCRUrkXibdrZcfcAT2mOegNy4ZQlp5kz_kNcyMg.SRqez2ffNfQgP87lOLiMQ0T1SME8A6l28TXFnrImCGIg.JPEG/a_8a84724b9d3c494fb7d1bb0388cf6cb9.jpg?type=m\"/>,\n",
       " <img alt=\"(W) 톰브라운 립스탑 메시 사선 드롭백 플리츠 미니 스커트 미디움 그레이\" class=\"image\" data-v-6c8b3524=\"\" src=\"https://kream-phinf.pstatic.net/MjAyMjA2MjBfMjM4/MDAxNjU1NzAwMTg4MjI3.kTj79dFhXAnBM92gi-r_bwBKoz2TMgL7inHiO5QZ4jwg.zXi1XiBbvaNgkG3gf_dsDYwM1vL-kZEqW3dLf6Z4rrUg.JPEG/a_10aa012e8884442ba94db53977217a83.jpg?type=m\"/>,\n",
       " <img alt=\"유니클로 x 마르니 벌룬 쉐이프 체크 스커트 블루 - 국내판\" class=\"image\" data-v-6c8b3524=\"\" src=\"https://kream-phinf.pstatic.net/MjAyMjA2MDlfODcg/MDAxNjU0NzQxODE2MTY4.loxFKrJOj64nEEt8B1Qi9MqGFEynJsVh8P7Ra94T3PYg.9FAG6OKpROT8hlq9dyvZcVG7flDgzvIZxA7EcJ6OTGAg.JPEG/a_e72dd798dafa46ddb689d8f4f451291f.jpg?type=m\"/>,\n",
       " <img alt=\"(W) 나이키 x 스투시 인슐레이티드 스커트 화이트 골지 그린 - 아시아\" class=\"image\" data-v-6c8b3524=\"\" src=\"https://kream-phinf.pstatic.net/MjAyMTAyMDFfMTU0/MDAxNjEyMTY2NTMwNDIz.vC1IYSONlfuaoAqXWTeUZJtYasZJp9kS0F6BxSM31IIg.Mch9V6q63Sp2E1QY9iVExUaFJi1THRN7prk3ZGDPd5kg.JPEG/p_12dc04b6abac4c7d92b33a1186285833.jpg?type=m\"/>,\n",
       " <img alt=\"(W) 톰브라운 립스탑 메시 사선 드롭백 플리츠 미니 스커트 네이비\" class=\"image\" data-v-6c8b3524=\"\" src=\"https://kream-phinf.pstatic.net/MjAyMjA2MjBfOTYg/MDAxNjU1NzAwMjA5OTAz.OB6NNUzSUdnPBth6h3ulI0gRkNzoxYln8h6mxbR3Vgsg.1ARLuoGVWIwqcIYaQIpkCIRE7oHN1Ezkkk_FK2bl9Cgg.JPEG/a_62e389d3910f4c8baa19b884bc269bc6.jpg?type=m\"/>,\n",
       " <img alt=\"(W) 톰브라운 코튼 트윌 옥스포드 플리츠 엔지니어드 사선 하프 플리츠 마이크로 미니 스커트 네이비\" class=\"image\" data-v-6c8b3524=\"\" src=\"https://kream-phinf.pstatic.net/MjAyMjAzMjNfMjYw/MDAxNjQ4MDIwMTM1MzE2.UCcIP8w2LWEZn8GWJx7fv2QzeyQXgJgYdcKKhmOSOVwg.x6zfGWf285ziSLHISJYuLBGWnsns1xjwYqFiPeNl7Jog.JPEG/a_fb121d2713934d1a97e94a087fc8ddca.jpg?type=m\"/>,\n",
       " <img alt=\"유니클로 x 마르니 벌룬 쉐이프 플라워 프린트 스커트 블루 - 국내판\" class=\"image\" data-v-6c8b3524=\"\" src=\"https://kream-phinf.pstatic.net/MjAyMjA1MzBfMTE2/MDAxNjUzOTAxMDYwMTA5.9UTM6DQCbHICxrTGwHDkQDpMPmOrzdZyTTI6DZmqX9gg.4ucJ3GpYMWR5VZs2ksrTrMFUFKPn_IyNHxpxrqyFD5cg.JPEG/a_aaf796ebd2d948339c7ce33276dcc0ce.jpg?type=m\"/>,\n",
       " <img alt=\"(W) 나이키 x 스투시 인슐레이티드 스커트 블랙 - 아시아\" class=\"image\" data-v-6c8b3524=\"\" src=\"https://kream-phinf.pstatic.net/MjAyMDEyMTFfNjMg/MDAxNjA3NjUwNTIwNzYw.641KbyB0mnmj4DowILLWy84MAcv6XPiakkMh6gO-nD0g.TKhvS89JDiuW7ts4W6a0BCRyo8eB4GYHAUHdraWqRZUg.JPEG/p_1b687248334047f9b24f5f2a3cbb9c06.jpg?type=m\"/>,\n",
       " <img alt=\"(W) 톰브라운 더블 페이스 파인 메리노 울 사선 에이라인 니 랭스 스커트 미디움 그레이\" class=\"image\" data-v-6c8b3524=\"\" src=\"https://kream-phinf.pstatic.net/MjAyMjA2MDdfMjM2/MDAxNjU0NTg0MzU2Nzcz.XvMRzLMlaa4Q_EPBnAbXF_MTbbDtr_Ri_pGNX7C98EUg.RmOjgV11jwf_I0lsnvkyndklAsCEbWsn1HIMfnfAhgUg.JPEG/a_7cae89611af04a758819416928968302.jpg?type=m\"/>,\n",
       " <img alt=\"(W) 메종 마르지엘라 어나니미티 오브 더 라이닝 스커트 네이비 화이트 스트라이프\" class=\"image\" data-v-6c8b3524=\"\" src=\"https://kream-phinf.pstatic.net/MjAyMjA1MTlfNTcg/MDAxNjUyOTQ0MDgzMTA5.lwkyd403T3x0oJP2RfsrSp1Bk_UzSQ0CNythjzXjCa8g.DLj9FdDLJaVdlcBmfiO6EwJWbPh1d4ISFt80Kv51AZwg.JPEG/a_087e9c1682c646f1a5c580f72b2c7af6.jpg?type=m\"/>,\n",
       " <img alt=\"(키즈) 버버리 체크 스트레치 코튼 플리츠 스커트 아카이브 베이지\" class=\"image\" data-v-6c8b3524=\"\" src=\"https://kream-phinf.pstatic.net/MjAyMjEwMTFfMiAg/MDAxNjY1NDYzNzMxNTQ4.U6LKQl7BD2bW30WUl5DHYV64tf78ppgXrrO3NlWWhiog.XQGo7D6emk5wo5hVclnk2jP1aC7NML8wxKtImIpw4_8g.JPEG/a_dd8ce2133e5f465d93a7cdff6a50b92c.jpg?type=m\"/>,\n",
       " <img alt=\"(W) 에센셜 플리스 스커트 위트 - 22SS\" class=\"image\" data-v-6c8b3524=\"\" src=\"https://kream-phinf.pstatic.net/MjAyMjA4MTBfMjEw/MDAxNjYwMTEzNDA1MzE1.ibHtG9a8GKGRDHHuBAg9sCJ11zqoq_VGyia-0BOL2zkg.GRUZltpbJOt4SQ9cXmTqQ7xLjOND9YWY1mZ3Rp6ZKAQg.JPEG/a_68cad64bf0d0469c9f57209c89d147fc.jpg?type=m\"/>,\n",
       " <img alt=\"(W) 나이키 x 스투시 인슐레이티드 스커트 화이트 골지 그린 - US/EU\" class=\"image\" data-v-6c8b3524=\"\" src=\"https://kream-phinf.pstatic.net/MjAyMTAxMjlfNjEg/MDAxNjExODg3MTY5NTA4.Crq5ImBSlYhfsl7ztwDtqfILR--UGgFRJ2ZLB8YHdNgg.gyGq178J-ZgjFscX1iiF7xyIPNIz5yaejcgxJfGHxRgg.JPEG/p_b9dcab5e987c400b94838e51e4c8031b.jpg?type=m\"/>,\n",
       " <img alt=\"(W) 나이키 x 스투시 인슐레이티드 스커트 블랙 - US/EU\" class=\"image\" data-v-6c8b3524=\"\" src=\"https://kream-phinf.pstatic.net/MjAyMDEyMTNfMTAy/MDAxNjA3ODY0MjYyMjk4.3HpdXqHUBJ-G8OsBgwS-DHfTw_WVd2Ws-o2Vazw1K9Qg.AUv0hSjpdpLzkpyE6KR2L5yEKFvFNb6coFuYGHybCgYg.JPEG/p_0bd2edd71e8a4a6c83c3f9671d192842.jpg?type=m\"/>,\n",
       " <img alt=\"(W) 톰브라운 울 2 플라이 프레스코 타이 웨이스트 미니 색 스커트 다크 그레이\" class=\"image\" data-v-6c8b3524=\"\" src=\"https://kream-phinf.pstatic.net/MjAyMjA4MTBfMTg3/MDAxNjYwMTIwNTgwMzU0.mPA7eQhAI0M6eMNM379x4hVX3m3lZcvzWCaA6Qvwl8Eg.jWKHPlZISNkOGFi5EI2rDJ-QLvamwczQYWZ2dq1jDrUg.JPEG/a_2779b9ff540c4563ac9f6e46cc66cf9c.jpg?type=m\"/>,\n",
       " <img alt=\"(W) 톰브라운 헤어라인 스트라이프 트위스트 얀 수팅 옥스포드 플리츠 드롭백 플리츠 미니 스커트 라이트 핑크\" class=\"image\" data-v-6c8b3524=\"\" src=\"https://kream-phinf.pstatic.net/MjAyMjA4MDNfMTIz/MDAxNjU5NTEyOTkzNjUz.xSdfL7UCPoSjadLI7rcVA7VcXu3m-Ku9SFUq3imxCSEg.Qi9VPWI3eWE3P46bKr4HTYW1kGeB3FqVSs2Bx0yzX9Mg.JPEG/a_cb36f5057ab8447da6305810ea4ec718.jpg?type=m\"/>,\n",
       " <img alt=\"(W) 톰브라운 플레인 위브 미니 플리츠 사선 스커트 네이비\" class=\"image\" data-v-6c8b3524=\"\" src=\"https://kream-phinf.pstatic.net/MjAyMjA4MDFfMTg4/MDAxNjU5MzMxODIyOTQ2.qGCrranv9A1YslatILuFdgPs5inWsLJtnIlgQawGaocg.LdGO_NQKy0aFCvKcWJXuAjBL_qHTlNEwyHVsO65vwRog.JPEG/a_9eb46c0a782d4e3d85a674a7377920e0.jpg?type=m\"/>,\n",
       " <img alt=\"(W) 톰브라운 피케 스티치 코튼 사선 드롭백 플리츠 미니 스커트 라이트 그레이\" class=\"image\" data-v-6c8b3524=\"\" src=\"https://kream-phinf.pstatic.net/MjAyMjA3MjVfMTI1/MDAxNjU4NzMxNjkyNDEx.-3b0D3X9LharuwXAicN1owy5ccWTHmzAF1FThU9JHVYg.-guY8wejj5YORm2yDGg6zgx4QmjY3V1xN6ZaTmOPJYgg.JPEG/a_de8a7a3894c64579b399fc27b7b22ad6.jpg?type=m\"/>,\n",
       " <img alt=\"(W) 톰브라운 슈퍼 120수 스쿨 유니폼 드롭백 플리츠 미니 스커트 다크 그레이\" class=\"image\" data-v-6c8b3524=\"\" src=\"https://kream-phinf.pstatic.net/MjAyMjA3MDVfODAg/MDAxNjU3MDE4NDI3NDc0.CWAeIn0X5HdJ5wHu5_r8LIHADSkrMMbNu8ruXlgy2NUg.ktKfyDAIx22jgQ8MXBBFcExvYg4-tIMcHi-2bv2Fs2Yg.JPEG/a_0d84da6153ca4ad2aa675da39a01d505.jpg?type=m\"/>,\n",
       " <img alt=\"(W) 버버리 비스코스 캐디 미니 스커트 블랙\" class=\"image\" data-v-6c8b3524=\"\" src=\"https://kream-phinf.pstatic.net/MjAyMjA3MDVfMzIg/MDAxNjU2OTk2Mzg3Nzg2.ci1IJX16Kc6Trcff4MWHxxBW3mFE6Ekad0YNETto4LEg.5FH89Npo-sC-w67piTrgkcOdO6Bg1KJ5gWc99Pb5GbIg.JPEG/a_b3826ec90f794428aeb2e883f71bd060.jpg?type=m\"/>,\n",
       " <img alt=\"(W) 유니클로 +J 플리츠 롱 스커트 다크 그레이 - 국내판\" class=\"image\" data-v-6c8b3524=\"\" src=\"https://kream-phinf.pstatic.net/MjAyMjAzMTRfMTYy/MDAxNjQ3MjI3NTk0MTg0.nWPLubm07-cGSAUftrQIlVR-ZP48Hw2b0VM-MLKyuR0g.yaOEOoqnEdMuryOfgmv8YD8BFeK6cxgs2a6W5POiIAIg.JPEG/a_28abd94a849c4340a4d7de99aafce264.jpg?type=m\"/>,\n",
       " <img alt=\"(W) 유니클로 +J 플리츠 롱 스커트 블랙 - 국내판\" class=\"image\" data-v-6c8b3524=\"\" src=\"https://kream-phinf.pstatic.net/MjAyMjAzMTRfMTcw/MDAxNjQ3MjI3NjgyMDU3.KNdf1BRcpT_VYXWSBSq4EfcJv5ibu89CY64TxUlg4mQg.k-CMrJjsGeC_EJ8silD371-56ufveHxIQGMe_Z-CYnAg.JPEG/a_73c0b98b73e045769129f51761378b07.jpg?type=m\"/>,\n",
       " <img alt=\"(W) 스투시 사비 체커 플리티드 스커트 브라운\" class=\"image\" data-v-6c8b3524=\"\" src=\"https://kream-phinf.pstatic.net/MjAyMTEwMTNfMTg5/MDAxNjM0MTE4MDIwMzUz.NncvW990_EfPFfk3hUMPw1VGvaDvaxsJBvPgB8xweZIg.hxilq3nU2t_gzjyKoaB_kfHTrjMz4AlGoZcFPIgQjycg.JPEG/a_9c3f7717bdf54977a1b3fff4f8412c2a.jpg?type=m\"/>,\n",
       " <img alt=\"렉토 우먼 홀리데이 부클 미니 스커트 옐로우 그린\" class=\"image\" data-v-6c8b3524=\"\" src=\"https://kream-phinf.pstatic.net/MjAyMjA5MjZfMjI5/MDAxNjY0MTkyMjE4MTk1.skMbj0U73pYxlFEMerdRA3VaQUk6uigaiDCkH3oWjyIg.a_YzvPhg3nkUug4AILM_1wG1V5Oq7pdw6Acp5yREzXog.JPEG/s_6b50dc3c1e864cf39a26537993f2a471.jpg?type=m\"/>,\n",
       " <img alt=\"(W) 구찌 x 아디다스 GG 튤 스커트 옐로우\" class=\"image\" data-v-6c8b3524=\"\" src=\"https://kream-phinf.pstatic.net/MjAyMjA2MTVfMzMg/MDAxNjU1Mjc0NjY3MDM0.gbBsrvk_O0pFfmT5Ra5F7tPzYMGrhNMK2RZxFOmtmAUg.vR317pnITWNJJarhZJPi01LuK_T1tlIWlgBjwKryRNQg.JPEG/a_a375d7c267ec4d8ea0d4007c8a21f046.jpg?type=m\"/>,\n",
       " <img alt=\"유니클로 x 마르니 벌룬 쉐이프 체크 스커트 레드 - 국내판\" class=\"image\" data-v-6c8b3524=\"\" src=\"https://kream-phinf.pstatic.net/MjAyMjA2MDlfMTIy/MDAxNjU0NzQxODM3MTY1.DNqgVXv3i3Q-JdJjNROmHyIqlq4SUYUKXVu-FMzLNSwg.Zu9v1y5bPX7riPCLYDr5GosXo4k4cMI97NMbowhW5JAg.JPEG/a_afb7c4eb43c14a098e4b0c7747c50f26.jpg?type=m\"/>,\n",
       " <img alt=\"유니클로 x 마르니 벌룬 쉐이프 스커트 네이비 - 국내판\" class=\"image\" data-v-6c8b3524=\"\" src=\"https://kream-phinf.pstatic.net/MjAyMjA1MzFfMjIy/MDAxNjUzOTYyMTc3MTQ0.2QTDnXpM55fw7A7W_JWemknJmrFan5Tu7KMNH0jVc38g.Ig70zGBkeRWL2REZx7rPfVSy5LrNiCF0WuIChy9axfcg.JPEG/a_69a726b37eb74b479ae5243a6a639247.jpg?type=m\"/>,\n",
       " <img alt=\"(W) 에센셜 플리스 스커트 아이언 - 22SS\" class=\"image\" data-v-6c8b3524=\"\" src=\"https://kream-phinf.pstatic.net/MjAyMjA4MTBfMTEy/MDAxNjYwMTEzMzc4NjEw.tYjqevgis3LO83qeblTyO0xrM0Y31clIDmZVqScurawg.3FsAHinjAN8Qz0ncLLmSvqrgeL1rlTUqkxrMgQb8sYMg.JPEG/a_8256109d51fc4d9880d61c900026e380.jpg?type=m\"/>,\n",
       " <img alt=\"(W) 에센셜 플리스 스커트 씨폼 - 22SS\" class=\"image\" data-v-6c8b3524=\"\" src=\"https://kream-phinf.pstatic.net/MjAyMjA4MTBfMjQg/MDAxNjYwMTEzMzkzNDUw.iDBMV3LGcQg5I_LpKyZ7247d9c53YQ2z9QruZkW6pkkg.p4lXuJSzPqs14qd1ziGhwuQEOnSaiZ0VWfjk9IPv9pUg.JPEG/a_4be858ba834e43508337dbc88a50cd0e.jpg?type=m\"/>,\n",
       " <img alt=\"(W) 말본 골프 컬러 라인 플리츠 스커트 오프 화이트\" class=\"image\" data-v-6c8b3524=\"\" src=\"https://kream-phinf.pstatic.net/MjAyMjAzMjNfMzgg/MDAxNjQ4MDE4MDQ4ODA2.EfmOY4VF8HBHyXsuvuBDHvmf5jReMNugcqAbdejNYMQg.obtx5NnBCSJDIXt4BmDm8A8n8kAXncD6sSDNh0ohlIog.JPEG/a_bb7e530c4d714e1286d793a2ea06a187.jpg?type=m\"/>,\n",
       " <img alt=\"(W) 겐조 벨티드 밀리터리 스커트 베이지\" class=\"image\" data-v-6c8b3524=\"\" src=\"https://kream-phinf.pstatic.net/MjAyMjAyMTBfMjU0/MDAxNjQ0NDU5MzY3MTU3.shKqrkTMOcc7OWFE5C0y_LLdU1eO_wR_Lu-bPBlKmzEg.3Sb15SM4kautS4D8F-0yYny2nItYgs6HPVHA3f11sTIg.PNG/a_7ea4d9e7733e4efa9c5331b1451167a5.png?type=m\"/>,\n",
       " <img alt=\"(W) 말본 골프 M 스크립트 플리츠 스커트 다크 그린\" class=\"image\" data-v-6c8b3524=\"\" src=\"https://kream-phinf.pstatic.net/MjAyMjAzMjNfMjcg/MDAxNjQ4MDE4MDM3OTI2.Xek8bHKkyZgGA1fBk3uGwN3lVBqRMNgEV33Qk88IqCkg.9XnfLfmIULxfW6zMUcpCljHG0FUIWCNoYaeE71h-Vx4g.JPEG/a_6a38f021d948429cbbe8c0d4692abf5d.jpg?type=m\"/>,\n",
       " <img alt=\"(W) 말본 골프 M 스크립트 플리츠 스커트 크림\" class=\"image\" data-v-6c8b3524=\"\" src=\"https://kream-phinf.pstatic.net/MjAyMjAzMjNfNDkg/MDAxNjQ4MDE4MDE5NDk2.aXBn66v8vZO27zH3uqwYI5yIriVmQnpRRmc8HJN9MDIg.t401fgTvpzmhvxFoD2astVeNFhiAJ8Up2Wuk3UgBVIQg.JPEG/a_4549895213854451b3a224d7a841e0ba.jpg?type=m\"/>,\n",
       " <img alt=\"렉토 우먼 써스테이너블 울 미니 스커트 민트\" class=\"image\" data-v-6c8b3524=\"\" src=\"https://kream-phinf.pstatic.net/MjAyMjEwMDVfMjkg/MDAxNjY0OTQ3NDI3ODY0.ICzIsZMAR219BR7-dowQ8xdqJzxZPYzBE-1nfp5h69wg.4HqpDPmjdtS1dycHqBFtto3fdMuDk057mBZx3ZEBAdAg.JPEG/p_8c07d15625194fabbbb2b1759e12875f.jpg?type=m\"/>,\n",
       " <img alt=\"(W) 발렌시아가 맥시 튜브 스커트 블랙\" class=\"image\" data-v-6c8b3524=\"\" src=\"https://kream-phinf.pstatic.net/MjAyMjA5MDZfMTY5/MDAxNjYyNDQ2NTI4ODg4.B8Lji82nd2vJpUrf-1q6pajQnn3lBN0Suf1Ep2RCToYg.IPxeLJ6u5CgGdNuUQrUwZIyXDAsjRYAWBS63DX_UdKYg.JPEG/a_0c96be5429b04cbcb9e50ae5ca63b28f.jpg?type=m\"/>,\n",
       " <img alt=\"(W) 아워레가시 디지털 듀얼 스커트 데님\" class=\"image\" data-v-6c8b3524=\"\" src=\"https://kream-phinf.pstatic.net/MjAyMjA4MjRfMjc3/MDAxNjYxMzMyMDcxOTQz.7YtV6x4RSDkfd85yjhl10lJrGYLHF3qM5cCZwGh-pr8g.kooBSPN-loDzOQj_EANNidpl681ClLdMO115xFFhgvog.JPEG/a_0145ce32663b4dca981956c941b920ba.jpg?type=m\"/>,\n",
       " <img alt=\"(W) 톰브라운 코튼 루프백 플리츠 미니 스커트 네이비\" class=\"image\" data-v-6c8b3524=\"\" src=\"https://kream-phinf.pstatic.net/MjAyMjA4MTlfMTg3/MDAxNjYwODk4NjcyOTY2.Pb-0nCONc2eQcGAYgbw6DHqllLABOiU4bH1Qk5CD6tcg.YgkNdibiBW7P7dpO3s6eyeyDIKgHMGwMIGJDwZV13KUg.JPEG/a_3466b4729a864c3f8a336127e1da984a.jpg?type=m\"/>,\n",
       " <img alt=\"(W) 몽클레르 프린트 코튼 스커트 블랙 그린 - 22FW\" class=\"image\" data-v-6c8b3524=\"\" src=\"https://kream-phinf.pstatic.net/MjAyMjA4MTlfMjkg/MDAxNjYwODkyODI3ODY2.lYkuAz-k7UHz84LqiFdwxIjmeEESSOtdfZel0403QDkg.mALlPqI83upIfkleSr1JaZFSh8ALki9iQKEuotDzqVQg.JPEG/a_20e9dc7b00df4c1fadd85cba0e242a1b.jpg?type=m\"/>,\n",
       " <img alt=\"(W) 톰브라운 코튼 루프백 미니 플리츠 스커트 그레이\" class=\"image\" data-v-6c8b3524=\"\" src=\"https://kream-phinf.pstatic.net/MjAyMjA4MDhfMjk4/MDAxNjU5OTI2NDQ0MTAw.l8r2ytqQl6sihdrARvDy1D7WGfQQ0Y1XjnSGQgbWrRAg.jQC1VttfbDiKgepGiKMm1hNNmO7fvpCrOtVs6Ckq1_gg.JPEG/a_7be4de1f90f6424e88b30cc28bedf796.jpg?type=m\"/>,\n",
       " <img alt=\"(W) 톰브라운 슈퍼 120수 트윌 빌로우 니 플리츠 스커트 네이비\" class=\"image\" data-v-6c8b3524=\"\" src=\"https://kream-phinf.pstatic.net/MjAyMjA4MDRfMjc4/MDAxNjU5NTkxMTQzNDIx.qjYd5Tr9da_2N2CoFqpYohkoaUjA1TZWVREKoE8a5Ygg.Ur0t88KXrNBbuIrqRhTbY0eQf6VKIVFnCIw46dztrlsg.JPEG/a_790e26948aa74c87b09516f5a71eb6a3.jpg?type=m\"/>,\n",
       " <img alt=\"나이키 NRG ACG 트레일 스커트 블랙 - 아시아\" class=\"image\" data-v-6c8b3524=\"\" src=\"https://kream-phinf.pstatic.net/MjAyMjA4MDNfMjg5/MDAxNjU5NTA3MzY5ODcw.JUh6SMfSjkaYRN0pD8_pUrZt9QPNjTHRmYN4YAFyGdkg.FhKRtqt_smF2nEGjKTVEk3Y8PZiNUqbvzvdsez8hJN8g.JPEG/a_55753294ba4a4c478e335adc16d5af79.jpg?type=m\"/>,\n",
       " <img alt=\"나이키 NRG ACG 트레일 스커트 블랙 - US/EU\" class=\"image\" data-v-6c8b3524=\"\" src=\"https://kream-phinf.pstatic.net/MjAyMjA4MDNfMjQy/MDAxNjU5NTA3MzkyNzYx.0E6aG90kuD-tkej4mrqzzP7ePTAKROOlkEG4LVii9MEg.2n5Y9-195dACt42DHCSWq_zFmAcG8eFivQMc0G82264g.JPEG/a_e9a4cc44af8749a4bb37edd18b67c862.jpg?type=m\"/>,\n",
       " <img alt=\"(W) 톰브라운 플레인 위브 미니 플리츠 사선 스커트 미디움 그레이\" class=\"image\" data-v-6c8b3524=\"\" src=\"https://kream-phinf.pstatic.net/MjAyMjA4MDFfMTU5/MDAxNjU5MzMxODA1MDA2.k40LL2iJmOaxdzuN02CnRdASg7CRJqKORPKR2_zu91cg.xqUulQztMkizDV5lychw3kmiefBc7Qrjhrd-7JNL1X0g.JPEG/a_7cccc9545035402592af36055ae2afba.jpg?type=m\"/>,\n",
       " <img alt=\"(W) 이자벨 마랑 나오미 프린티드 미니 스커트 에크루 - 22FW\" class=\"image\" data-v-6c8b3524=\"\" src=\"https://kream-phinf.pstatic.net/MjAyMjA4MDFfMjMy/MDAxNjU5MzQ3MzY2ODI3.oKRxPsn1kMB69hCZZtBKxMRSM_XzUssiC90Q4K0ebgAg.BGKdbjaH7tOH7B7b7LxATNIUgY6dlmeyz7MgsHp_zYAg.JPEG/a_350c9437946a48319c8bcdd53daaff1f.jpg?type=m\"/>,\n",
       " <img alt=\"(W) 이자벨 마랑 나오미 프린티드 미니 스커트 페이디드 블랙 - 22FW\" class=\"image\" data-v-6c8b3524=\"\" src=\"https://kream-phinf.pstatic.net/MjAyMjA4MDFfMjM5/MDAxNjU5MzQ3MzQyMTAx.z_xCaz2ohvyIRVQLEOuLpDS00oH7LV4H76SwV5XYgpcg.exgM-M_wfK05KSOUXaV7h5B4qyC_8jOv8YSyXHumB1Ug.JPEG/a_4a1aa9f41c224644b016921d39e20ec7.jpg?type=m\"/>,\n",
       " <img alt=\"(W) 프라다 테리클로스 미니 스커트 블랙 화이트\" class=\"image\" data-v-6c8b3524=\"\" src=\"https://kream-phinf.pstatic.net/MjAyMjA3MjdfMjQ0/MDAxNjU4ODkyNDM3MjY1.-VwOXYuTjo0mprg2W6_HoCrD9mvhrv2eCpiCSTip04wg.2L-j2HccITSc8axo8_tS4E4Gv7fX5K_L51PsrwKoubsg.JPEG/a_25d9eac5d9764976a08355a56a4b206b.jpg?type=m\"/>,\n",
       " <img alt=\"(W) 톰브라운 텍스쳐드 스트라이프 코튼 트위드 버튼 플래킷 니 랭스 스커트 멀티컬러\" class=\"image\" data-v-6c8b3524=\"\" src=\"https://kream-phinf.pstatic.net/MjAyMjA3MjVfNTEg/MDAxNjU4NzI5MzcyNDg3.Dd_BV6_rqL1TukldFf7xp-ALCSEWkskbPAx5Ecp8yAAg.gCYF9lA-tKhV3su0_4exyZU9gmmi9UrhLtQtcnXGSnAg.JPEG/a_51053e3d740e4201b9a1df76994693dd.jpg?type=m\"/>,\n",
       " <img alt=\"(W) 톰브라운 케이블 텍스쳐드 오버트위스트 코튼 스트라이프 프레이밍 아코디언 플리츠 니 랭스 스커트 네이비\" class=\"image\" data-v-6c8b3524=\"\" src=\"https://kream-phinf.pstatic.net/MjAyMjA3MjVfMzkg/MDAxNjU4NzI5NTc1MDI1.yBs2ku_3b5b5V0U4hOViCU2silcAeFbrrieI_akQTeUg.thAZnAy4ktydVq5fSoD0tsukVCHTZKVYu6vWUu_-xY8g.JPEG/a_c86cb9bd9af04ecd8345da65dbcab20e.jpg?type=m\"/>,\n",
       " <img alt=\"(W) 지포어 플리츠 스커트 네이비\" class=\"image\" data-v-6c8b3524=\"\" src=\"https://kream-phinf.pstatic.net/MjAyMjA3MjBfNyAg/MDAxNjU4Mjk1MzUwODAz.dOuVJ0Monu4OUbfv7ETlIBUGZzvyfETrfkxEuJz7btcg.BgUOFQHtg8Qs2LWmIRlKErvU5Jbu0Vsh1CgxMtWJQIAg.JPEG/a_431a4810b59e47b6b176c54c89ded19a.jpg?type=m\"/>,\n",
       " <img alt=\"(W) 말본 골프 랩스커트 쇼츠 그린\" class=\"image\" data-v-6c8b3524=\"\" src=\"https://kream-phinf.pstatic.net/MjAyMjA3MDVfMTk4/MDAxNjU3MDAwNzU0ODQy.6TQpDWxoaV-f_CC1puq2hvslf7gT3RfbmTZz-Q3squ8g.qi-jMQyoC3RnMIsu4mJ9P44yZ023d3J21WuJS5kAIqog.JPEG/a_2b67bc595f1f4c8894a2d75ab8efe75a.jpg?type=m\"/>,\n",
       " <img alt=\"(W) 톰브라운 슈퍼 120수 스쿨 유니폼 드롭백 플리츠 미니 스커트 네이비\" class=\"image\" data-v-6c8b3524=\"\" src=\"https://kream-phinf.pstatic.net/MjAyMjA3MDVfMTc2/MDAxNjU3MDE4NDM5NDAw.90FvQqDgvJvnhJviw90l9kMmRVNUxBigSLFYdLS7j4cg.TJUupPbKOMQrYm0cCrLhxcW6-Tpj49ZlpPtFTX3pB4Eg.JPEG/a_d943bfa828744429b284a3ebd2a7a36f.jpg?type=m\"/>,\n",
       " <img alt=\"(W) 톰브라운 슈퍼 120수 스쿨 유니폼 드롭백 플리츠 미니 스커트 미디움 그레이\" class=\"image\" data-v-6c8b3524=\"\" src=\"https://kream-phinf.pstatic.net/MjAyMjA3MDVfMjQ1/MDAxNjU3MDE4NDEyOTYw.FgGbxP681lx9JgHjjNYOFXMFUBnpppSUe2AnNGanvCQg.GfkodKxPvSaHDXtns8mfjiolD3out4QGvPYCDyTi4L0g.JPEG/a_5dd762e07d7946618b54a811a33b96f0.jpg?type=m\"/>,\n",
       " <img alt=\"(W) 톰브라운 슈퍼 120수 트윌 빌로우 니 플리츠 스커트 다크 그레이\" class=\"image\" data-v-6c8b3524=\"\" src=\"https://kream-phinf.pstatic.net/MjAyMjA2MjlfMTM5/MDAxNjU2NDkyMDQwNjI0.5EdNGVoNnv1w_l0mjaxFoWZA0v4lNgWCeQo50AyGEIwg.b_kJ97AdpwbTxNokLJG7ONjbd8SrLkoifhhgFZmoX_kg.JPEG/a_f4a6456786e94aa0b728e6a3af09a8d3.jpg?type=m\"/>,\n",
       " <img alt=\"(W) 톰브라운 사선 플리츠 미니 스커트 미디움 그레이\" class=\"image\" data-v-6c8b3524=\"\" src=\"https://kream-phinf.pstatic.net/MjAyMjA2MjJfMTgw/MDAxNjU1ODY3ODkyNTcw.88tg3ItEyMUkrGsKQHcBisx3xzOvsxBIJseAUhnU_DQg.3paTVk6VBcRaACjlURKXoSehNxDUDN3UI5cSNGG1LDsg.JPEG/a_bcf2f9d12d484d498fa9f012876f9241.jpg?type=m\"/>,\n",
       " <img alt=\"(W) 말본 골프 버킷 레인 랩스커트 블랙\" class=\"image\" data-v-6c8b3524=\"\" src=\"https://kream-phinf.pstatic.net/MjAyMjA2MjBfMTI2/MDAxNjU1NzEyMDE0MDQ4.-5UAYaXNkcxfoFznend-OBylQUnxx0cp2Jum2aTWsBUg.TbU8pvwl-9Mx4veSbOUPspw17qRc10ujJ7a55y0kGA8g.JPEG/a_d4abfe35e8504997be0d26c013c7ac85.jpg?type=m\"/>,\n",
       " <img alt=\"(W) 말본 골프 컬러 라인 플리츠 스커트 레몬\" class=\"image\" data-v-6c8b3524=\"\" src=\"https://kream-phinf.pstatic.net/MjAyMjA2MTVfODAg/MDAxNjU1Mjc0NjE1MzYy.sgxMgYU0Rxfp0OYdxlI5DjVxaWDfqMNmPzrfXxLkdRUg.NGPdAP__ld9VvzdfQolkFICb6SKOuKP0JrBg1TPJqsYg.JPEG/a_eea70b1bf6754a4cb7536af95d2ef413.jpg?type=m\"/>,\n",
       " <img alt=\"(W) 말본 골프 티잉 플리츠 스커트 그린\" class=\"image\" data-v-6c8b3524=\"\" src=\"https://kream-phinf.pstatic.net/MjAyMjA1MjdfMjQ2/MDAxNjUzNjM2MDIwMjY1.ZAtANkb-Sny7fBZgH9aK_auIU8yp7k0JRheVF-YTSRkg.mNOgl5qAOX8plGjU23aZ3A1HV79KjGonZPA3z69Bp0og.JPEG/a_4359e22f247d4edc883eaa6b569d0651.jpg?type=m\"/>,\n",
       " <img alt=\"(W) 톰브라운 스쿨 유니폼 플레인 위브 드롭백 플리츠 미니 스커트 네이비\" class=\"image\" data-v-6c8b3524=\"\" src=\"https://kream-phinf.pstatic.net/MjAyMjA1MTdfNDMg/MDAxNjUyNzczMzU5NzA2.LODNF7dBWuztHij0q1qd3xe-IRcZ9mc337dU88GWFocg.j6EPD1NpcYXL_-iaJB-F-2ZhAukf6Oi9h7Uf5UFGWCEg.JPEG/a_1dd89163af21497aba7dc818f43bbc49.jpg?type=m\"/>,\n",
       " <img alt=\"(W) 말본 골프 미니 파우치 플리츠 스커트 블랙\" class=\"image\" data-v-6c8b3524=\"\" src=\"https://kream-phinf.pstatic.net/MjAyMjA1MTNfNzIg/MDAxNjUyNDM0MzY0NDI0.8uKcznKUIjt78XX6Jcve3kImXCdg2MdemhXL_Wxkw7sg.0x4t5LWlY_XhfuA-r4k08LLu9NK45sLqnOJkBaY7hYUg.JPEG/a_6af9518118574bc0b0f8e14a0ffc587c.jpg?type=m\"/>,\n",
       " <img alt=\"(유아) 버버리 체크 스트레치 코튼 플리츠 스커트 아카이브 베이지\" class=\"image\" data-v-6c8b3524=\"\" src=\"https://kream-phinf.pstatic.net/MjAyMjA1MTNfMTAw/MDAxNjUyNDI0NDQ2MjI1.O85k3m5Fr4_-H_Q6NH7APphIr0yeHrzicDzIxn_DesQg.1C4bq0OOfMxxTcRLfD9Xe_vvRb9Pe2E7lU3DeRt-KVMg.JPEG/a_3f1f9de265a54d8d8553b5bf160e077e.jpg?type=m\"/>,\n",
       " <img alt=\"(W) 이자벨 마랑 나오미 스커트 에크루 - 21SS\" class=\"image\" data-v-6c8b3524=\"\" src=\"https://kream-phinf.pstatic.net/MjAyMjA0MjlfMjM4/MDAxNjUxMjA3NTMwODA0.j3Z2gn8z29JPs60iWmuYfkkS9beltLTdNNXd5DcpZ0kg.upc6WvJmR8V9WkZYAwFIBgM-vual3yaTYBxU9XkFaiYg.JPEG/a_aa363f22d6ef41a78f8cb23c70278271.jpg?type=m\"/>,\n",
       " <img alt=\"(W) 피엑스지 썸머 언밸런스드 플리츠 스커트 화이트\" class=\"image\" data-v-6c8b3524=\"\" src=\"https://kream-phinf.pstatic.net/MjAyMjAzMjRfOSAg/MDAxNjQ4MTA5Njg2OTIx.Q5CaRkdsU5qGr9YpUriOtTbhK3u0AcX6L8XNjRHVeeAg.POj553MS3vLHCzXgiCvZV_Ht9c94pAY2HDSSa_VsV38g.JPEG/a_1256e8bda6864c9ba36f7975ffd49114.jpg?type=m\"/>,\n",
       " <img alt=\"(W) 스투시 사비 체커 플리티드 스커트 그린\" class=\"image\" data-v-6c8b3524=\"\" src=\"https://kream-phinf.pstatic.net/MjAyMTEwMTNfNjMg/MDAxNjM0MTE4MDEyMTQ2.mwXmZ4bockiZqQ7_2kIAKgeWgKkRJzSZe57gZws9yEIg.kLSByb2ZI-lrYTn6NHijIOnXGzGUh8a_VsGoHByxdw4g.JPEG/a_35b628ce6a0548e593cd0bfb42f6edab.jpg?type=m\"/>]"
      ]
     },
     "execution_count": 91,
     "metadata": {},
     "output_type": "execute_result"
    }
   ],
   "source": [
    "#import requests as req\n",
    "#header = {'User-Agent':'Mozila/5.0'}\n",
    "#res = req.get(url, headers=header).text\n",
    "\n",
    "soup = BeautifulSoup(driver.page_source, \"lxml\")\n",
    "pictures = soup.select('picture img')\n",
    "pictures\n",
    "#soup.select('div.search_content')[0].select('div.search_result_item')\n",
    "\n"
   ]
  },
  {
   "cell_type": "code",
   "execution_count": 92,
   "id": "564cb793-4bc4-427f-bf38-9a4939acb92d",
   "metadata": {},
   "outputs": [
    {
     "data": {
      "text/plain": [
       "67"
      ]
     },
     "execution_count": 92,
     "metadata": {},
     "output_type": "execute_result"
    }
   ],
   "source": [
    "len(pictures)"
   ]
  },
  {
   "cell_type": "code",
   "execution_count": 93,
   "id": "ffc8aa22-cb8c-460f-9e6e-2f95e3397f48",
   "metadata": {},
   "outputs": [],
   "source": [
    "from tqdm import tqdm\n",
    "import urllib.request as request"
   ]
  },
  {
   "cell_type": "code",
   "execution_count": 94,
   "id": "1c512cf4-a402-4706-b7b8-7b5c7b15bf8c",
   "metadata": {},
   "outputs": [
    {
     "name": "stderr",
     "output_type": "stream",
     "text": [
      "100%|██████████████████████████████████████████████████████████████████████████████████| 67/67 [00:02<00:00, 30.60it/s]"
     ]
    },
    {
     "name": "stdout",
     "output_type": "stream",
     "text": [
      "저장 완료!\n"
     ]
    },
    {
     "name": "stderr",
     "output_type": "stream",
     "text": [
      "\n"
     ]
    }
   ],
   "source": [
    "save_dir = \"./img/kream_skirt\"\n",
    "clothes_num = 1\n",
    "from urllib.parse import urljoin\n",
    "base_url = 'https://kream-phinf.pstatic.net'\n",
    "\n",
    "for img in tqdm(pictures):\n",
    "    # data-original = 이미지 경로\n",
    "    tmp = img.attrs['src']\n",
    "    img_url = urljoin(base_url, tmp)\n",
    "    savename = \"{}/{}_skirt.png\".format(save_dir, clothes_num);\n",
    "    clothes_num += 1\n",
    "    try:\n",
    "        request.urlretrieve(img_url, savename)\n",
    "    except:\n",
    "        continue\n",
    "\n",
    "print(\"저장 완료!\")"
   ]
  },
  {
   "cell_type": "code",
   "execution_count": 24,
   "id": "1ed6f354-8211-4788-a69c-685fe98c35f8",
   "metadata": {},
   "outputs": [
    {
     "name": "stdout",
     "output_type": "stream",
     "text": [
      "6680\n"
     ]
    }
   ],
   "source": [
    "print(len(pictures))"
   ]
  },
  {
   "cell_type": "code",
   "execution_count": null,
   "id": "e53d8e5a-62f5-464b-8913-9eb233153e74",
   "metadata": {},
   "outputs": [],
   "source": []
  },
  {
   "cell_type": "code",
   "execution_count": null,
   "id": "e5fe6ac0-6cd3-46c9-a13f-eafc1eb634a6",
   "metadata": {},
   "outputs": [],
   "source": []
  },
  {
   "cell_type": "code",
   "execution_count": null,
   "id": "2596a509-b746-4a6a-8ba8-24a235322362",
   "metadata": {},
   "outputs": [],
   "source": []
  },
  {
   "cell_type": "code",
   "execution_count": null,
   "id": "b15882ab-bc3f-47d1-bc08-cc0727d17626",
   "metadata": {},
   "outputs": [],
   "source": []
  }
 ],
 "metadata": {
  "kernelspec": {
   "display_name": "Python 3 (ipykernel)",
   "language": "python",
   "name": "python3"
  },
  "language_info": {
   "codemirror_mode": {
    "name": "ipython",
    "version": 3
   },
   "file_extension": ".py",
   "mimetype": "text/x-python",
   "name": "python",
   "nbconvert_exporter": "python",
   "pygments_lexer": "ipython3",
   "version": "3.8.13"
  }
 },
 "nbformat": 4,
 "nbformat_minor": 5
}
